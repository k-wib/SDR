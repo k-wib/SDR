{
  "cells": [
    {
      "cell_type": "code",
      "source": [
        "!pip install -U git+https://github.com/k-wib/sdr.git\n",
        "!pip install -U sliced"
      ],
      "metadata": {
        "colab": {
          "base_uri": "https://localhost:8080/"
        },
        "id": "tq9GHd9ZQ8EJ",
        "outputId": "cc355daa-bdeb-45cf-f67c-41559b48e459"
      },
      "id": "tq9GHd9ZQ8EJ",
      "execution_count": 1,
      "outputs": [
        {
          "output_type": "stream",
          "name": "stdout",
          "text": [
            "Collecting git+https://github.com/k-wib/sdr.git\n",
            "  Cloning https://github.com/k-wib/sdr.git to /tmp/pip-req-build-zve7f61l\n",
            "  Running command git clone -q https://github.com/k-wib/sdr.git /tmp/pip-req-build-zve7f61l\n",
            "Requirement already satisfied: numpy in /usr/local/lib/python3.7/dist-packages (from sdr==1.0.0) (1.21.6)\n",
            "Requirement already satisfied: sklearn in /usr/local/lib/python3.7/dist-packages (from sdr==1.0.0) (0.0)\n",
            "Requirement already satisfied: matplotlib in /usr/local/lib/python3.7/dist-packages (from sdr==1.0.0) (3.2.2)\n",
            "Collecting torch==1.7.1\n",
            "  Downloading torch-1.7.1-cp37-cp37m-manylinux1_x86_64.whl (776.8 MB)\n",
            "\u001b[K     |████████████████████████████████| 776.8 MB 19 kB/s \n",
            "\u001b[?25hRequirement already satisfied: typing-extensions in /usr/local/lib/python3.7/dist-packages (from torch==1.7.1->sdr==1.0.0) (4.1.1)\n",
            "Requirement already satisfied: python-dateutil>=2.1 in /usr/local/lib/python3.7/dist-packages (from matplotlib->sdr==1.0.0) (2.8.2)\n",
            "Requirement already satisfied: cycler>=0.10 in /usr/local/lib/python3.7/dist-packages (from matplotlib->sdr==1.0.0) (0.11.0)\n",
            "Requirement already satisfied: kiwisolver>=1.0.1 in /usr/local/lib/python3.7/dist-packages (from matplotlib->sdr==1.0.0) (1.4.2)\n",
            "Requirement already satisfied: pyparsing!=2.0.4,!=2.1.2,!=2.1.6,>=2.0.1 in /usr/local/lib/python3.7/dist-packages (from matplotlib->sdr==1.0.0) (3.0.8)\n",
            "Requirement already satisfied: six>=1.5 in /usr/local/lib/python3.7/dist-packages (from python-dateutil>=2.1->matplotlib->sdr==1.0.0) (1.15.0)\n",
            "Requirement already satisfied: scikit-learn in /usr/local/lib/python3.7/dist-packages (from sklearn->sdr==1.0.0) (1.0.2)\n",
            "Requirement already satisfied: scipy>=1.1.0 in /usr/local/lib/python3.7/dist-packages (from scikit-learn->sklearn->sdr==1.0.0) (1.4.1)\n",
            "Requirement already satisfied: threadpoolctl>=2.0.0 in /usr/local/lib/python3.7/dist-packages (from scikit-learn->sklearn->sdr==1.0.0) (3.1.0)\n",
            "Requirement already satisfied: joblib>=0.11 in /usr/local/lib/python3.7/dist-packages (from scikit-learn->sklearn->sdr==1.0.0) (1.1.0)\n",
            "Building wheels for collected packages: sdr\n",
            "  Building wheel for sdr (setup.py) ... \u001b[?25l\u001b[?25hdone\n",
            "  Created wheel for sdr: filename=sdr-1.0.0-py3-none-any.whl size=4058 sha256=ad59f834a70b3b59b23d7be6a1d67ba55ce70cab8e28ec6b63c4868766be5e73\n",
            "  Stored in directory: /tmp/pip-ephem-wheel-cache-on_qjmh3/wheels/09/cf/31/a8da759b8a42b1bfac87e3d84dd4d487720b5e502e38775713\n",
            "Successfully built sdr\n",
            "Installing collected packages: torch, sdr\n",
            "  Attempting uninstall: torch\n",
            "    Found existing installation: torch 1.10.0+cu111\n",
            "    Uninstalling torch-1.10.0+cu111:\n",
            "      Successfully uninstalled torch-1.10.0+cu111\n",
            "\u001b[31mERROR: pip's dependency resolver does not currently take into account all the packages that are installed. This behaviour is the source of the following dependency conflicts.\n",
            "torchvision 0.11.1+cu111 requires torch==1.10.0, but you have torch 1.7.1 which is incompatible.\n",
            "torchtext 0.11.0 requires torch==1.10.0, but you have torch 1.7.1 which is incompatible.\n",
            "torchaudio 0.10.0+cu111 requires torch==1.10.0, but you have torch 1.7.1 which is incompatible.\u001b[0m\n",
            "Successfully installed sdr-1.0.0 torch-1.7.1\n",
            "Collecting sliced\n",
            "  Downloading sliced-0.7.0-py2.py3-none-any.whl (43 kB)\n",
            "\u001b[K     |████████████████████████████████| 43 kB 1.7 MB/s \n",
            "\u001b[?25hRequirement already satisfied: scikit-learn>=0.17 in /usr/local/lib/python3.7/dist-packages (from sliced) (1.0.2)\n",
            "Requirement already satisfied: scipy>=0.13.3 in /usr/local/lib/python3.7/dist-packages (from sliced) (1.4.1)\n",
            "Requirement already satisfied: numpy>=1.8.2 in /usr/local/lib/python3.7/dist-packages (from sliced) (1.21.6)\n",
            "Requirement already satisfied: threadpoolctl>=2.0.0 in /usr/local/lib/python3.7/dist-packages (from scikit-learn>=0.17->sliced) (3.1.0)\n",
            "Requirement already satisfied: joblib>=0.11 in /usr/local/lib/python3.7/dist-packages (from scikit-learn>=0.17->sliced) (1.1.0)\n",
            "Installing collected packages: sliced\n",
            "Successfully installed sliced-0.7.0\n"
          ]
        }
      ]
    },
    {
      "cell_type": "code",
      "execution_count": 3,
      "id": "344ebe54",
      "metadata": {
        "id": "344ebe54"
      },
      "outputs": [],
      "source": [
        "from sdr import *\n",
        "from sliced import SlicedInverseRegression, SlicedAverageVarianceEstimation\n",
        "from sklearn import mixture, datasets\n",
        "from sklearn.model_selection import train_test_split\n",
        "import numpy as np\n",
        "from tqdm import tqdm\n",
        "import matplotlib.pyplot as plt\n",
        "\n",
        "from sklearn.model_selection import train_test_split\n",
        "from sklearn.linear_model import RidgeCV\n",
        "\n",
        "from sklearn.feature_selection import VarianceThreshold\n",
        "\n",
        "random_seed=42\n",
        "\n",
        "%config InlineBackend.figure_format = 'retina'"
      ]
    },
    {
      "cell_type": "code",
      "execution_count": 4,
      "id": "14580f47",
      "metadata": {
        "id": "14580f47"
      },
      "outputs": [],
      "source": [
        "from numpy import eye, asarray, dot, sum, diag\n",
        "from numpy.linalg import svd\n",
        "\n",
        "def varimax(Phi, gamma = 1.0, q = 20, tol = 1e-6):\n",
        "    p,k = Phi.shape\n",
        "    R = eye(k)\n",
        "    d=0\n",
        "    for i in range(q):\n",
        "        d_old = d\n",
        "        Lambda = dot(Phi, R)\n",
        "        u,s,vh = svd(dot(Phi.T,asarray(Lambda)**3 - (gamma/p) * dot(Lambda, diag(diag(dot(Lambda.T,Lambda))))))\n",
        "        R = dot(u,vh)\n",
        "        d = sum(s)\n",
        "        if d_old!=0 and d/d_old < 1 + tol: break\n",
        "    return dot(Phi, R)"
      ]
    },
    {
      "cell_type": "markdown",
      "id": "774fb180",
      "metadata": {
        "id": "774fb180"
      },
      "source": [
        "# Experiment 1"
      ]
    },
    {
      "cell_type": "code",
      "execution_count": 5,
      "id": "fcebf316",
      "metadata": {
        "colab": {
          "base_uri": "https://localhost:8080/"
        },
        "id": "fcebf316",
        "outputId": "47b782e7-1a63-4a41-d4a3-af9e783b6c10"
      },
      "outputs": [
        {
          "output_type": "execute_result",
          "data": {
            "text/plain": [
              "((5000, 15), (5000,))"
            ]
          },
          "metadata": {},
          "execution_count": 5
        }
      ],
      "source": [
        "X,y=datasets.make_friedman1(n_samples=5000, n_features=15, noise=0)\n",
        "X=X-np.mean(X,axis=0)\n",
        "Z=np.hstack((X,y.reshape(-1,1)))\n",
        "\n",
        "X.shape, y.shape"
      ]
    },
    {
      "cell_type": "markdown",
      "id": "a09a4c06",
      "metadata": {
        "id": "a09a4c06"
      },
      "source": [
        "## SDR"
      ]
    },
    {
      "cell_type": "code",
      "execution_count": 6,
      "id": "a9493a99",
      "metadata": {
        "colab": {
          "base_uri": "https://localhost:8080/"
        },
        "id": "a9493a99",
        "outputId": "c02e2655-5cf3-4305-c6b6-db5a4dc7d7ae"
      },
      "outputs": [
        {
          "output_type": "execute_result",
          "data": {
            "text/plain": [
              "GaussianMixture(n_components=10, random_state=42)"
            ]
          },
          "metadata": {},
          "execution_count": 6
        }
      ],
      "source": [
        "gmm_fit = NormalMixFit(num_comps=[2,5,10,15], covariance_type='full', criterion='aic', random_state=random_seed)\n",
        "gmm_fit.get_gmm(X, y)\n",
        "\n",
        "gmm_fit.fitted_gmm"
      ]
    },
    {
      "cell_type": "code",
      "execution_count": 10,
      "id": "27638704",
      "metadata": {
        "colab": {
          "base_uri": "https://localhost:8080/"
        },
        "id": "27638704",
        "outputId": "81f02d98-40f8-44ce-bc8a-b9c9c35b7409"
      },
      "outputs": [
        {
          "output_type": "stream",
          "name": "stderr",
          "text": [
            " 53%|█████▎    | 265/500 [03:00<02:40,  1.47it/s]\n"
          ]
        }
      ],
      "source": [
        "B=2*10**5\n",
        "p=5\n",
        "\n",
        "sdr_model = SDR(n=B, n_lb=B, p=p, eta=10, epochs=500, stoc=True, algo=\"cayley\", early_stopping=50)\n",
        "sdr_model.fit(gmm_fit.fitted_gmm)"
      ]
    },
    {
      "cell_type": "code",
      "execution_count": 11,
      "id": "a9b1cb28",
      "metadata": {
        "colab": {
          "base_uri": "https://localhost:8080/",
          "height": 265
        },
        "id": "a9b1cb28",
        "outputId": "6d2abbbe-88b1-4e63-fa1d-4ae9c72b88b7"
      },
      "outputs": [
        {
          "output_type": "display_data",
          "data": {
            "text/plain": [
              "<Figure size 432x288 with 1 Axes>"
            ],
            "image/png": "[encoded data removed]"
          },
          "metadata": {
            "image/png": {
              "width": 399,
              "height": 248
            },
            "needs_background": "light"
          }
        }
      ],
      "source": [
        "sdr_model.plot()"
      ]
    },
    {
      "cell_type": "markdown",
      "id": "a2465573",
      "metadata": {
        "id": "a2465573"
      },
      "source": [
        "## SIR"
      ]
    },
    {
      "cell_type": "code",
      "execution_count": 12,
      "id": "2e056c4d",
      "metadata": {
        "id": "2e056c4d"
      },
      "outputs": [],
      "source": [
        "sir = SlicedInverseRegression(n_directions=p)\n",
        "sir.fit(X, y)\n",
        "A2=sir.directions_"
      ]
    },
    {
      "cell_type": "markdown",
      "id": "11b9c8fc",
      "metadata": {
        "id": "11b9c8fc"
      },
      "source": [
        "## SAVE"
      ]
    },
    {
      "cell_type": "code",
      "execution_count": 13,
      "id": "2f553332",
      "metadata": {
        "id": "2f553332"
      },
      "outputs": [],
      "source": [
        "save = SlicedAverageVarianceEstimation(n_directions=p)\n",
        "save.fit(X, y)\n",
        "A3=save.directions_"
      ]
    },
    {
      "cell_type": "markdown",
      "id": "ddf33b72",
      "metadata": {
        "id": "ddf33b72"
      },
      "source": [
        "## PCA"
      ]
    },
    {
      "cell_type": "code",
      "execution_count": 14,
      "id": "441df265",
      "metadata": {
        "id": "441df265"
      },
      "outputs": [],
      "source": [
        "V,U=np.linalg.eigh(np.cov(X.T))\n",
        "U=U[:,::-1]\n",
        "U=U[:,:p]"
      ]
    },
    {
      "cell_type": "markdown",
      "id": "1d21c29e",
      "metadata": {
        "id": "1d21c29e"
      },
      "source": [
        "## Plots"
      ]
    },
    {
      "cell_type": "code",
      "execution_count": 15,
      "id": "29a48f5e",
      "metadata": {
        "colab": {
          "base_uri": "https://localhost:8080/"
        },
        "id": "29a48f5e",
        "outputId": "9335d4ec-16c3-45e3-b605-919f46b4f9e9"
      },
      "outputs": [
        {
          "output_type": "execute_result",
          "data": {
            "text/plain": [
              "(4, 5, 15)"
            ]
          },
          "metadata": {},
          "execution_count": 15
        }
      ],
      "source": [
        "O=np.array([#np.abs(sdr_model.A.detach().numpy()).tolist(),\n",
        "            np.abs(varimax(sdr_model.A.detach().numpy().T)).T.tolist(),\n",
        "            #np.abs(A2).tolist(),\n",
        "            np.abs(varimax(A2.T).T).tolist(),\n",
        "            #np.abs(A3).tolist(),\n",
        "            np.abs(varimax(A3.T).T).tolist(),\n",
        "            #np.abs(U.T).tolist(),\n",
        "            np.abs(varimax(U).T).tolist()])\n",
        "O.shape"
      ]
    },
    {
      "cell_type": "code",
      "execution_count": 16,
      "id": "b831bf15",
      "metadata": {
        "id": "b831bf15"
      },
      "outputs": [],
      "source": [
        "titles=[['GMM SDR','\\nSIR'],['SAVE','\\nPCA']]"
      ]
    },
    {
      "cell_type": "code",
      "execution_count": 18,
      "id": "e4371419",
      "metadata": {
        "colab": {
          "base_uri": "https://localhost:8080/",
          "height": 340
        },
        "id": "e4371419",
        "outputId": "6adbc85f-d3ca-446f-b8a3-9980fa338bce"
      },
      "outputs": [
        {
          "output_type": "display_data",
          "data": {
            "text/plain": [
              "<Figure size 576x324 with 4 Axes>"
            ],
            "image/png": "[encoded data removed]"
          },
          "metadata": {
            "image/png": {
              "width": 525,
              "height": 323
            },
            "needs_background": "light"
          }
        }
      ],
      "source": [
        "fig, axs = plt.subplots(2,2)\n",
        "fig.tight_layout()\n",
        "\n",
        "cont=0\n",
        "\n",
        "for j in range(2):\n",
        "    for i in range(2):\n",
        "        \n",
        "        im=axs[i,j].imshow(O[cont], cmap='viridis', vmin=0, vmax=1, aspect='auto')\n",
        "        axs[i,j].set_title(titles[j][i], size=14)\n",
        "        #axs[i,j].set_xlabel('Input', size=12)\n",
        "        #axs[i,j].set_ylabel('Output', size=12)\n",
        "\n",
        "        ticks=[0,4,9,14]\n",
        "        #labels=np.round(np.array(values[j]), 3)[ticks]\n",
        "        axs[i,j].set_xticks(ticks)\n",
        "        #axs[i,j].set_xticklabels('Input dimensions', size=14)\n",
        "        #axs[i,j].set_yticks(ticks)\n",
        "        #axs[i,j].set_yticklabels('Output dimensions', size=14)\n",
        "        \n",
        "        cont+=1\n",
        " \n",
        "#cbar = fig.colorbar(im, ax=axs.ravel().tolist(),aspect=30,fraction=0.02, pad=0.04)\n",
        "#cbar.ax.tick_params(labelsize=12)\n",
        "#cbar.ax.set_title('',size=12)\n",
        "\n",
        "fig.set_figheight(4.5)\n",
        "fig.set_figwidth(8)\n",
        "#plt.savefig('plots/sdr_pca.png', bbox_inches='tight', dpi=500, transparent=True)\n",
        "plt.show()"
      ]
    },
    {
      "cell_type": "markdown",
      "id": "fb60bdfd",
      "metadata": {
        "id": "fb60bdfd"
      },
      "source": [
        "# Experiment 2"
      ]
    },
    {
      "cell_type": "code",
      "source": [
        "from google.colab import drive\n",
        "drive.mount('/content/drive')"
      ],
      "metadata": {
        "colab": {
          "base_uri": "https://localhost:8080/"
        },
        "id": "6vrOwFpTT71_",
        "outputId": "04dc98c0-f5a6-4c7e-e081-b181ad62c82e"
      },
      "id": "6vrOwFpTT71_",
      "execution_count": 31,
      "outputs": [
        {
          "output_type": "stream",
          "name": "stdout",
          "text": [
            "Mounted at /content/drive\n"
          ]
        }
      ]
    },
    {
      "cell_type": "code",
      "source": [
        "%cd /content/drive/My Drive/"
      ],
      "metadata": {
        "colab": {
          "base_uri": "https://localhost:8080/"
        },
        "id": "CaXLwGUTU4-X",
        "outputId": "19ba40dc-e846-469a-9fd4-c5773f8e6321"
      },
      "id": "CaXLwGUTU4-X",
      "execution_count": 37,
      "outputs": [
        {
          "output_type": "stream",
          "name": "stdout",
          "text": [
            "/content/drive/My Drive\n"
          ]
        }
      ]
    },
    {
      "cell_type": "code",
      "execution_count": 50,
      "id": "b28220aa",
      "metadata": {
        "id": "b28220aa"
      },
      "outputs": [],
      "source": [
        "from sklearn.preprocessing import StandardScaler\n",
        "\n",
        "def load_dataset(name):\n",
        "    #Separator#\n",
        "    if name in ['bank32nh', 'bank8FM','puma8NH','fried_delve', 'delta_ailerons']: sep=\" \"\n",
        "    elif name in ['winequality']: sep=\";\"\n",
        "    else: sep=\",\"\n",
        "    ###########\n",
        "    \n",
        "    #.data\n",
        "    #url=\"https://raw.githubusercontent.com/felipemaiapolo/master_thesis/master/open_datasets/\"+name+\".data\"\n",
        "    #s=requests.get(url).content\n",
        "    d1=pd.read_csv(\"data/\"+name+\".data\", header=None, sep=sep)\n",
        "    #.test\n",
        "    #url=\"https://raw.githubusercontent.com/felipemaiapolo/master_thesis/master/open_datasets/\"+name+\".test\"\n",
        "    #s=requests.get(url).content\n",
        "    try:\n",
        "        d2=pd.read_csv(\"data/\"+name+\".test\", header=None, sep=sep)\n",
        "        d1=d1.append(d2)\n",
        "        print(\"- ***\",name,\"*** dataset shape=\",np.shape(d1)) #Printing shape of dataset\n",
        "        \n",
        "        #### exception\n",
        "        if name in ['bank32nh','bank8FM','puma8NH']:d1=d1.iloc[:,:-1]\n",
        "        else: pass\n",
        "        ####\n",
        "        \n",
        "        return d1.dropna()\n",
        "    except:\n",
        "        print(\"- ***\",name,\"*** dataset shape=\",np.shape(d1)) #Printing shape of dataset\n",
        "        \n",
        "        #### exception\n",
        "        if name in ['bank32nh','bank8FM','puma8NH']:d1=d1.iloc[:,:-1]\n",
        "        else: pass\n",
        "        return d1.dropna()\n",
        "    \n",
        "    \n",
        "def get_X_y(pd_df,scale=True):\n",
        "    if scale: \n",
        "        scaler=StandardScaler()\n",
        "        scaled=scaler.fit_transform(np.array(pd_df))\n",
        "        X=scaled[:,:-1]\n",
        "        y=scaled[:,-1]\n",
        "    else:\n",
        "        X=np.array(pd_df)[:,:-1]\n",
        "        y=np.array(pd_df)[:,-1]\n",
        "    return [X,y]\n"
      ]
    },
    {
      "cell_type": "code",
      "execution_count": 51,
      "id": "7aca53ea",
      "metadata": {
        "id": "7aca53ea"
      },
      "outputs": [],
      "source": [
        "dataset_names=['abalone','bank32nh','cal_housing','cpu_act','delta_ailerons',\n",
        "               'elevators', 'fried_delve','puma32H'] "
      ]
    },
    {
      "cell_type": "code",
      "execution_count": 52,
      "id": "ee31f10e",
      "metadata": {
        "id": "ee31f10e"
      },
      "outputs": [],
      "source": [
        "import pandas as pd"
      ]
    },
    {
      "cell_type": "code",
      "execution_count": 53,
      "id": "b403bcc4",
      "metadata": {
        "colab": {
          "base_uri": "https://localhost:8080/"
        },
        "id": "b403bcc4",
        "outputId": "8a2ec8a1-4efc-4147-a4b4-a29ca97014ab"
      },
      "outputs": [
        {
          "output_type": "stream",
          "name": "stdout",
          "text": [
            "- *** abalone *** dataset shape= (4177, 9)\n",
            "- *** bank32nh *** dataset shape= (8192, 34)\n",
            "- *** cal_housing *** dataset shape= (20640, 9)\n",
            "- *** cpu_act *** dataset shape= (8192, 22)\n",
            "- *** delta_ailerons *** dataset shape= (7129, 6)\n",
            "- *** elevators *** dataset shape= (16599, 19)\n",
            "- *** fried_delve *** dataset shape= (40768, 11)\n",
            "- *** puma32H *** dataset shape= (8192, 33)\n"
          ]
        }
      ],
      "source": [
        "data={}\n",
        "for name in dataset_names: data[name]=load_dataset(name) "
      ]
    },
    {
      "cell_type": "code",
      "execution_count": 54,
      "id": "d1d0a49b",
      "metadata": {
        "id": "d1d0a49b"
      },
      "outputs": [],
      "source": [
        "for name in dataset_names: \n",
        "    n = data[name].shape[0]\n",
        "    index = np.random.choice(n, min(10000,n), replace=False)\n",
        "    data[name]=data[name].iloc[index,:]"
      ]
    },
    {
      "cell_type": "code",
      "execution_count": 55,
      "id": "bb49b15d",
      "metadata": {
        "id": "bb49b15d"
      },
      "outputs": [],
      "source": [
        "#Exclude categorical variable\n",
        "data['abalone']=data['abalone'].iloc[:,1:]"
      ]
    },
    {
      "cell_type": "code",
      "execution_count": 56,
      "id": "ddaa8990",
      "metadata": {
        "id": "ddaa8990"
      },
      "outputs": [],
      "source": [
        "for name in dataset_names: data[name]=get_X_y(data[name], scale=False)"
      ]
    },
    {
      "cell_type": "code",
      "source": [
        "# for name in dataset_names:\n",
        "#     data[name][0]=VarianceThreshold(threshold=0.).fit_transform(data[name][0])\n",
        "    \n",
        "#     n,d=data[name][0].shape\n",
        "    \n",
        "#     if d<15:\n",
        "#         data[name][0]=np.hstack((data[name][0], np.random.normal(0,1,n*(15-d)).reshape((n,-1))))"
      ],
      "metadata": {
        "id": "n9FeDGq3VVGa"
      },
      "id": "n9FeDGq3VVGa",
      "execution_count": 47,
      "outputs": []
    },
    {
      "cell_type": "code",
      "execution_count": 57,
      "id": "e5089f45",
      "metadata": {
        "colab": {
          "base_uri": "https://localhost:8080/"
        },
        "id": "e5089f45",
        "outputId": "bd223df3-a767-4b99-a396-b420b7ccc3ce"
      },
      "outputs": [
        {
          "output_type": "stream",
          "name": "stdout",
          "text": [
            "abalone (4177, 7)\n",
            "bank32nh (8192, 32)\n",
            "cal_housing (10000, 8)\n",
            "cpu_act (8192, 21)\n",
            "delta_ailerons (7129, 5)\n",
            "elevators (10000, 18)\n",
            "fried_delve (10000, 10)\n",
            "puma32H (8192, 32)\n"
          ]
        }
      ],
      "source": [
        "for name in dataset_names: \n",
        "    scaler=StandardScaler()\n",
        "    data[name][0]=scaler.fit_transform(data[name][0])\n",
        "    \n",
        "    scaler=StandardScaler()\n",
        "    data[name][1]=scaler.fit_transform(data[name][1].reshape((-1,1))).squeeze()\n",
        "    print(name,data[name][0].shape)"
      ]
    },
    {
      "cell_type": "code",
      "execution_count": 58,
      "id": "2ad456d5",
      "metadata": {
        "id": "2ad456d5"
      },
      "outputs": [],
      "source": [
        "p=1\n",
        "B=10**5"
      ]
    },
    {
      "cell_type": "code",
      "execution_count": 59,
      "id": "e787acd1",
      "metadata": {
        "id": "e787acd1"
      },
      "outputs": [],
      "source": [
        "from sklearn.feature_selection import mutual_info_regression"
      ]
    },
    {
      "cell_type": "code",
      "execution_count": 60,
      "id": "126f1489",
      "metadata": {
        "id": "126f1489"
      },
      "outputs": [],
      "source": [
        "from scipy import stats\n"
      ]
    },
    {
      "cell_type": "code",
      "execution_count": 64,
      "id": "abbe2ccd",
      "metadata": {
        "colab": {
          "base_uri": "https://localhost:8080/",
          "height": 708
        },
        "id": "abbe2ccd",
        "outputId": "626b4afa-6192-45c1-d752-ddc047bcfc42"
      },
      "outputs": [
        {
          "output_type": "stream",
          "name": "stdout",
          "text": [
            "abalone\n"
          ]
        },
        {
          "output_type": "stream",
          "name": "stderr",
          "text": [
            " 14%|█▍        | 70/500 [02:00<12:17,  1.72s/it]\n"
          ]
        },
        {
          "output_type": "stream",
          "name": "stdout",
          "text": [
            "bank32nh\n"
          ]
        },
        {
          "output_type": "stream",
          "name": "stderr",
          "text": [
            "  4%|▍         | 21/500 [00:35<13:32,  1.70s/it]\n"
          ]
        },
        {
          "output_type": "error",
          "ename": "KeyboardInterrupt",
          "evalue": "ignored",
          "traceback": [
            "\u001b[0;31m---------------------------------------------------------------------------\u001b[0m",
            "\u001b[0;31mKeyboardInterrupt\u001b[0m                         Traceback (most recent call last)",
            "\u001b[0;32m<ipython-input-64-535783ad5a91>\u001b[0m in \u001b[0;36m<module>\u001b[0;34m()\u001b[0m\n\u001b[1;32m     27\u001b[0m     \u001b[0msir\u001b[0m\u001b[0;34m.\u001b[0m\u001b[0mfit\u001b[0m\u001b[0;34m(\u001b[0m\u001b[0mX_train\u001b[0m\u001b[0;34m,\u001b[0m \u001b[0my_train\u001b[0m\u001b[0;34m)\u001b[0m\u001b[0;34m\u001b[0m\u001b[0;34m\u001b[0m\u001b[0m\n\u001b[1;32m     28\u001b[0m     \u001b[0mA\u001b[0m\u001b[0;34m=\u001b[0m\u001b[0msir\u001b[0m\u001b[0;34m.\u001b[0m\u001b[0mdirections_\u001b[0m\u001b[0;34m\u001b[0m\u001b[0;34m\u001b[0m\u001b[0m\n\u001b[0;32m---> 29\u001b[0;31m     \u001b[0msdr_model\u001b[0m\u001b[0;34m.\u001b[0m\u001b[0mfit\u001b[0m\u001b[0;34m(\u001b[0m\u001b[0mgmm_fit\u001b[0m\u001b[0;34m.\u001b[0m\u001b[0mfitted_gmm\u001b[0m\u001b[0;34m)\u001b[0m\u001b[0;34m\u001b[0m\u001b[0;34m\u001b[0m\u001b[0m\n\u001b[0m\u001b[1;32m     30\u001b[0m     \u001b[0mA\u001b[0m\u001b[0;34m=\u001b[0m\u001b[0msdr_model\u001b[0m\u001b[0;34m.\u001b[0m\u001b[0mA\u001b[0m\u001b[0;34m.\u001b[0m\u001b[0mdetach\u001b[0m\u001b[0;34m(\u001b[0m\u001b[0;34m)\u001b[0m\u001b[0;34m.\u001b[0m\u001b[0mnumpy\u001b[0m\u001b[0;34m(\u001b[0m\u001b[0;34m)\u001b[0m\u001b[0;34m\u001b[0m\u001b[0;34m\u001b[0m\u001b[0m\n\u001b[1;32m     31\u001b[0m     \u001b[0mreg\u001b[0m \u001b[0;34m=\u001b[0m \u001b[0mRidgeCV\u001b[0m\u001b[0;34m(\u001b[0m\u001b[0;34m)\u001b[0m\u001b[0;34m.\u001b[0m\u001b[0mfit\u001b[0m\u001b[0;34m(\u001b[0m\u001b[0mX_train\u001b[0m\u001b[0;34m@\u001b[0m\u001b[0mA\u001b[0m\u001b[0;34m.\u001b[0m\u001b[0mT\u001b[0m\u001b[0;34m,\u001b[0m \u001b[0my_train\u001b[0m\u001b[0;34m)\u001b[0m\u001b[0;34m\u001b[0m\u001b[0;34m\u001b[0m\u001b[0m\n",
            "\u001b[0;32m/usr/local/lib/python3.7/dist-packages/sdr/__init__.py\u001b[0m in \u001b[0;36mfit\u001b[0;34m(self, fitted_gmm)\u001b[0m\n\u001b[1;32m    183\u001b[0m                     \u001b[0mkycovs\u001b[0m\u001b[0;34m=\u001b[0m\u001b[0;34m[\u001b[0m\u001b[0mB_cand\u001b[0m\u001b[0;34m@\u001b[0m\u001b[0mself\u001b[0m\u001b[0;34m.\u001b[0m\u001b[0mcovs\u001b[0m\u001b[0;34m[\u001b[0m\u001b[0mi\u001b[0m\u001b[0;34m]\u001b[0m\u001b[0;34m@\u001b[0m\u001b[0mB_cand\u001b[0m\u001b[0;34m.\u001b[0m\u001b[0mT\u001b[0m \u001b[0;32mfor\u001b[0m \u001b[0mi\u001b[0m \u001b[0;32min\u001b[0m \u001b[0mrange\u001b[0m\u001b[0;34m(\u001b[0m\u001b[0mn_comp\u001b[0m\u001b[0;34m)\u001b[0m\u001b[0;34m]\u001b[0m\u001b[0;34m\u001b[0m\u001b[0;34m\u001b[0m\u001b[0m\n\u001b[1;32m    184\u001b[0m                     \u001b[0mkydist\u001b[0m \u001b[0;34m=\u001b[0m \u001b[0mNormalMix\u001b[0m\u001b[0;34m(\u001b[0m\u001b[0mself\u001b[0m\u001b[0;34m.\u001b[0m\u001b[0mpis\u001b[0m\u001b[0;34m,\u001b[0m\u001b[0mkymus\u001b[0m\u001b[0;34m,\u001b[0m\u001b[0mkycovs\u001b[0m\u001b[0;34m)\u001b[0m\u001b[0;34m\u001b[0m\u001b[0;34m\u001b[0m\u001b[0m\n\u001b[0;32m--> 185\u001b[0;31m                     \u001b[0mcand_loss\u001b[0m\u001b[0;34m=\u001b[0m\u001b[0;34m-\u001b[0m\u001b[0;34m(\u001b[0m\u001b[0mkydist\u001b[0m\u001b[0;34m.\u001b[0m\u001b[0mlog_prob\u001b[0m\u001b[0;34m(\u001b[0m\u001b[0mZ\u001b[0m\u001b[0;34m@\u001b[0m\u001b[0mB_cand\u001b[0m\u001b[0;34m.\u001b[0m\u001b[0mT\u001b[0m\u001b[0;34m)\u001b[0m\u001b[0;34m-\u001b[0m\u001b[0mkdist\u001b[0m\u001b[0;34m.\u001b[0m\u001b[0mlog_prob\u001b[0m\u001b[0;34m(\u001b[0m\u001b[0mZ\u001b[0m\u001b[0;34m@\u001b[0m\u001b[0;34m(\u001b[0m\u001b[0mA_cand\u001b[0m\u001b[0;34m@\u001b[0m\u001b[0mEx\u001b[0m\u001b[0;34m)\u001b[0m\u001b[0;34m.\u001b[0m\u001b[0mT\u001b[0m\u001b[0;34m)\u001b[0m\u001b[0;34m-\u001b[0m\u001b[0mydist\u001b[0m\u001b[0;34m.\u001b[0m\u001b[0mlog_prob\u001b[0m\u001b[0;34m(\u001b[0m\u001b[0;34m(\u001b[0m\u001b[0mZ\u001b[0m\u001b[0;34m@\u001b[0m\u001b[0;34m(\u001b[0m\u001b[0mEy\u001b[0m\u001b[0;34m)\u001b[0m\u001b[0;34m.\u001b[0m\u001b[0mT\u001b[0m\u001b[0;34m)\u001b[0m\u001b[0;34m)\u001b[0m\u001b[0;34m)\u001b[0m\u001b[0;34m.\u001b[0m\u001b[0mmean\u001b[0m\u001b[0;34m(\u001b[0m\u001b[0;34m)\u001b[0m\u001b[0;34m.\u001b[0m\u001b[0mitem\u001b[0m\u001b[0;34m(\u001b[0m\u001b[0;34m)\u001b[0m\u001b[0;34m\u001b[0m\u001b[0;34m\u001b[0m\u001b[0m\n\u001b[0m\u001b[1;32m    186\u001b[0m                     \u001b[0mder_eta\u001b[0m \u001b[0;34m=\u001b[0m \u001b[0;36m0.5\u001b[0m \u001b[0;34m*\u001b[0m \u001b[0mtorch\u001b[0m\u001b[0;34m.\u001b[0m\u001b[0mtrace\u001b[0m\u001b[0;34m(\u001b[0m\u001b[0;34m(\u001b[0m\u001b[0mA\u001b[0m \u001b[0;34m+\u001b[0m \u001b[0mA_cand\u001b[0m\u001b[0;34m)\u001b[0m \u001b[0;34m@\u001b[0m \u001b[0mW\u001b[0m \u001b[0;34m@\u001b[0m \u001b[0minv_temp\u001b[0m \u001b[0;34m@\u001b[0m \u001b[0mG\u001b[0m\u001b[0;34m)\u001b[0m\u001b[0;34m\u001b[0m\u001b[0;34m\u001b[0m\u001b[0m\n\u001b[1;32m    187\u001b[0m                     \u001b[0;32mif\u001b[0m \u001b[0mcand_loss\u001b[0m \u001b[0;34m<=\u001b[0m \u001b[0morig_loss\u001b[0m \u001b[0;34m+\u001b[0m \u001b[0mrho_1\u001b[0m \u001b[0;34m*\u001b[0m \u001b[0meta_init\u001b[0m \u001b[0;34m*\u001b[0m \u001b[0mder_0\u001b[0m \u001b[0;32mand\u001b[0m \u001b[0mder_eta\u001b[0m \u001b[0;34m>=\u001b[0m \u001b[0mrho_2\u001b[0m \u001b[0;34m*\u001b[0m \u001b[0mder_0\u001b[0m\u001b[0;34m:\u001b[0m\u001b[0;34m\u001b[0m\u001b[0;34m\u001b[0m\u001b[0m\n",
            "\u001b[0;32m/usr/local/lib/python3.7/dist-packages/sdr/__init__.py\u001b[0m in \u001b[0;36mlog_prob\u001b[0;34m(self, Z)\u001b[0m\n\u001b[1;32m     28\u001b[0m         \u001b[0mlike\u001b[0m\u001b[0;34m=\u001b[0m\u001b[0mtorch\u001b[0m\u001b[0;34m.\u001b[0m\u001b[0mzeros\u001b[0m\u001b[0;34m(\u001b[0m\u001b[0mZ\u001b[0m\u001b[0;34m.\u001b[0m\u001b[0mshape\u001b[0m\u001b[0;34m[\u001b[0m\u001b[0;36m0\u001b[0m\u001b[0;34m]\u001b[0m\u001b[0;34m)\u001b[0m\u001b[0;34m\u001b[0m\u001b[0;34m\u001b[0m\u001b[0m\n\u001b[1;32m     29\u001b[0m         \u001b[0;32mfor\u001b[0m \u001b[0mc\u001b[0m \u001b[0;32min\u001b[0m \u001b[0mrange\u001b[0m\u001b[0;34m(\u001b[0m\u001b[0mlen\u001b[0m\u001b[0;34m(\u001b[0m\u001b[0mself\u001b[0m\u001b[0;34m.\u001b[0m\u001b[0mcomps\u001b[0m\u001b[0;34m)\u001b[0m\u001b[0;34m)\u001b[0m\u001b[0;34m:\u001b[0m\u001b[0;34m\u001b[0m\u001b[0;34m\u001b[0m\u001b[0m\n\u001b[0;32m---> 30\u001b[0;31m             \u001b[0mlike\u001b[0m\u001b[0;34m+=\u001b[0m\u001b[0mself\u001b[0m\u001b[0;34m.\u001b[0m\u001b[0mpis\u001b[0m\u001b[0;34m[\u001b[0m\u001b[0mc\u001b[0m\u001b[0;34m]\u001b[0m\u001b[0;34m*\u001b[0m\u001b[0mtorch\u001b[0m\u001b[0;34m.\u001b[0m\u001b[0mexp\u001b[0m\u001b[0;34m(\u001b[0m\u001b[0mself\u001b[0m\u001b[0;34m.\u001b[0m\u001b[0mcomps\u001b[0m\u001b[0;34m[\u001b[0m\u001b[0mc\u001b[0m\u001b[0;34m]\u001b[0m\u001b[0;34m.\u001b[0m\u001b[0mlog_prob\u001b[0m\u001b[0;34m(\u001b[0m\u001b[0mZ\u001b[0m\u001b[0;34m)\u001b[0m\u001b[0;34m)\u001b[0m\u001b[0;34m\u001b[0m\u001b[0;34m\u001b[0m\u001b[0m\n\u001b[0m\u001b[1;32m     31\u001b[0m \u001b[0;34m\u001b[0m\u001b[0m\n\u001b[1;32m     32\u001b[0m         \u001b[0;32mreturn\u001b[0m \u001b[0mtorch\u001b[0m\u001b[0;34m.\u001b[0m\u001b[0mlog\u001b[0m\u001b[0;34m(\u001b[0m\u001b[0mlike\u001b[0m\u001b[0;34m)\u001b[0m\u001b[0;34m\u001b[0m\u001b[0;34m\u001b[0m\u001b[0m\n",
            "\u001b[0;32m/usr/local/lib/python3.7/dist-packages/torch/distributions/multivariate_normal.py\u001b[0m in \u001b[0;36mlog_prob\u001b[0;34m(self, value)\u001b[0m\n\u001b[1;32m    206\u001b[0m             \u001b[0mself\u001b[0m\u001b[0;34m.\u001b[0m\u001b[0m_validate_sample\u001b[0m\u001b[0;34m(\u001b[0m\u001b[0mvalue\u001b[0m\u001b[0;34m)\u001b[0m\u001b[0;34m\u001b[0m\u001b[0;34m\u001b[0m\u001b[0m\n\u001b[1;32m    207\u001b[0m         \u001b[0mdiff\u001b[0m \u001b[0;34m=\u001b[0m \u001b[0mvalue\u001b[0m \u001b[0;34m-\u001b[0m \u001b[0mself\u001b[0m\u001b[0;34m.\u001b[0m\u001b[0mloc\u001b[0m\u001b[0;34m\u001b[0m\u001b[0;34m\u001b[0m\u001b[0m\n\u001b[0;32m--> 208\u001b[0;31m         \u001b[0mM\u001b[0m \u001b[0;34m=\u001b[0m \u001b[0m_batch_mahalanobis\u001b[0m\u001b[0;34m(\u001b[0m\u001b[0mself\u001b[0m\u001b[0;34m.\u001b[0m\u001b[0m_unbroadcasted_scale_tril\u001b[0m\u001b[0;34m,\u001b[0m \u001b[0mdiff\u001b[0m\u001b[0;34m)\u001b[0m\u001b[0;34m\u001b[0m\u001b[0;34m\u001b[0m\u001b[0m\n\u001b[0m\u001b[1;32m    209\u001b[0m         \u001b[0mhalf_log_det\u001b[0m \u001b[0;34m=\u001b[0m \u001b[0mself\u001b[0m\u001b[0;34m.\u001b[0m\u001b[0m_unbroadcasted_scale_tril\u001b[0m\u001b[0;34m.\u001b[0m\u001b[0mdiagonal\u001b[0m\u001b[0;34m(\u001b[0m\u001b[0mdim1\u001b[0m\u001b[0;34m=\u001b[0m\u001b[0;34m-\u001b[0m\u001b[0;36m2\u001b[0m\u001b[0;34m,\u001b[0m \u001b[0mdim2\u001b[0m\u001b[0;34m=\u001b[0m\u001b[0;34m-\u001b[0m\u001b[0;36m1\u001b[0m\u001b[0;34m)\u001b[0m\u001b[0;34m.\u001b[0m\u001b[0mlog\u001b[0m\u001b[0;34m(\u001b[0m\u001b[0;34m)\u001b[0m\u001b[0;34m.\u001b[0m\u001b[0msum\u001b[0m\u001b[0;34m(\u001b[0m\u001b[0;34m-\u001b[0m\u001b[0;36m1\u001b[0m\u001b[0;34m)\u001b[0m\u001b[0;34m\u001b[0m\u001b[0;34m\u001b[0m\u001b[0m\n\u001b[1;32m    210\u001b[0m         \u001b[0;32mreturn\u001b[0m \u001b[0;34m-\u001b[0m\u001b[0;36m0.5\u001b[0m \u001b[0;34m*\u001b[0m \u001b[0;34m(\u001b[0m\u001b[0mself\u001b[0m\u001b[0;34m.\u001b[0m\u001b[0m_event_shape\u001b[0m\u001b[0;34m[\u001b[0m\u001b[0;36m0\u001b[0m\u001b[0;34m]\u001b[0m \u001b[0;34m*\u001b[0m \u001b[0mmath\u001b[0m\u001b[0;34m.\u001b[0m\u001b[0mlog\u001b[0m\u001b[0;34m(\u001b[0m\u001b[0;36m2\u001b[0m \u001b[0;34m*\u001b[0m \u001b[0mmath\u001b[0m\u001b[0;34m.\u001b[0m\u001b[0mpi\u001b[0m\u001b[0;34m)\u001b[0m \u001b[0;34m+\u001b[0m \u001b[0mM\u001b[0m\u001b[0;34m)\u001b[0m \u001b[0;34m-\u001b[0m \u001b[0mhalf_log_det\u001b[0m\u001b[0;34m\u001b[0m\u001b[0;34m\u001b[0m\u001b[0m\n",
            "\u001b[0;32m/usr/local/lib/python3.7/dist-packages/torch/distributions/multivariate_normal.py\u001b[0m in \u001b[0;36m_batch_mahalanobis\u001b[0;34m(bL, bx)\u001b[0m\n\u001b[1;32m     55\u001b[0m     \u001b[0mflat_x\u001b[0m \u001b[0;34m=\u001b[0m \u001b[0mbx\u001b[0m\u001b[0;34m.\u001b[0m\u001b[0mreshape\u001b[0m\u001b[0;34m(\u001b[0m\u001b[0;34m-\u001b[0m\u001b[0;36m1\u001b[0m\u001b[0;34m,\u001b[0m \u001b[0mflat_L\u001b[0m\u001b[0;34m.\u001b[0m\u001b[0msize\u001b[0m\u001b[0;34m(\u001b[0m\u001b[0;36m0\u001b[0m\u001b[0;34m)\u001b[0m\u001b[0;34m,\u001b[0m \u001b[0mn\u001b[0m\u001b[0;34m)\u001b[0m  \u001b[0;31m# shape = c x b x n\u001b[0m\u001b[0;34m\u001b[0m\u001b[0;34m\u001b[0m\u001b[0m\n\u001b[1;32m     56\u001b[0m     \u001b[0mflat_x_swap\u001b[0m \u001b[0;34m=\u001b[0m \u001b[0mflat_x\u001b[0m\u001b[0;34m.\u001b[0m\u001b[0mpermute\u001b[0m\u001b[0;34m(\u001b[0m\u001b[0;36m1\u001b[0m\u001b[0;34m,\u001b[0m \u001b[0;36m2\u001b[0m\u001b[0;34m,\u001b[0m \u001b[0;36m0\u001b[0m\u001b[0;34m)\u001b[0m  \u001b[0;31m# shape = b x n x c\u001b[0m\u001b[0;34m\u001b[0m\u001b[0;34m\u001b[0m\u001b[0m\n\u001b[0;32m---> 57\u001b[0;31m     \u001b[0mM_swap\u001b[0m \u001b[0;34m=\u001b[0m \u001b[0mtorch\u001b[0m\u001b[0;34m.\u001b[0m\u001b[0mtriangular_solve\u001b[0m\u001b[0;34m(\u001b[0m\u001b[0mflat_x_swap\u001b[0m\u001b[0;34m,\u001b[0m \u001b[0mflat_L\u001b[0m\u001b[0;34m,\u001b[0m \u001b[0mupper\u001b[0m\u001b[0;34m=\u001b[0m\u001b[0;32mFalse\u001b[0m\u001b[0;34m)\u001b[0m\u001b[0;34m[\u001b[0m\u001b[0;36m0\u001b[0m\u001b[0;34m]\u001b[0m\u001b[0;34m.\u001b[0m\u001b[0mpow\u001b[0m\u001b[0;34m(\u001b[0m\u001b[0;36m2\u001b[0m\u001b[0;34m)\u001b[0m\u001b[0;34m.\u001b[0m\u001b[0msum\u001b[0m\u001b[0;34m(\u001b[0m\u001b[0;34m-\u001b[0m\u001b[0;36m2\u001b[0m\u001b[0;34m)\u001b[0m  \u001b[0;31m# shape = b x c\u001b[0m\u001b[0;34m\u001b[0m\u001b[0;34m\u001b[0m\u001b[0m\n\u001b[0m\u001b[1;32m     58\u001b[0m     \u001b[0mM\u001b[0m \u001b[0;34m=\u001b[0m \u001b[0mM_swap\u001b[0m\u001b[0;34m.\u001b[0m\u001b[0mt\u001b[0m\u001b[0;34m(\u001b[0m\u001b[0;34m)\u001b[0m  \u001b[0;31m# shape = c x b\u001b[0m\u001b[0;34m\u001b[0m\u001b[0;34m\u001b[0m\u001b[0m\n\u001b[1;32m     59\u001b[0m \u001b[0;34m\u001b[0m\u001b[0m\n",
            "\u001b[0;31mKeyboardInterrupt\u001b[0m: "
          ]
        },
        {
          "output_type": "display_data",
          "data": {
            "text/plain": [
              "<Figure size 432x288 with 1 Axes>"
            ],
            "image/png": "[encoded data removed]"
          },
          "metadata": {
            "image/png": {
              "width": 380,
              "height": 248
            },
            "needs_background": "light"
          }
        }
      ],
      "source": [
        "results=[]\n",
        "\n",
        "for name in dataset_names: \n",
        "    \n",
        "    print(name)\n",
        "    \n",
        "    X,y=data[name]\n",
        "    X_train, X_test, y_train, y_test = train_test_split(X, y, test_size=0.2, random_state=random_seed)\n",
        "\n",
        "    results.append([])\n",
        "    \n",
        "    ##GMM SDR\n",
        "    #from sklearn.decomposition import PCA\n",
        "    #pca = PCA()\n",
        "    #pca.fit(X_train)\n",
        "    #X_train=pca.transform(X_train)\n",
        "    #X_test=pca.transform(X_test)\n",
        "\n",
        "    gmm_fit = NormalMixFit(num_comps=[3,5,7,10,15], covariance_type='full', criterion='aic', reg_covar=1e-05, random_state=random_seed)\n",
        "    gmm_fit.get_gmm(X_train, y_train)\n",
        "    \n",
        "    mouli = CayleyArmijo(rho_1 = 0.1, rho_2 = 0.9, max_iter = 10)\n",
        "    sdr_model = SDR(n=B, n_lb=B, p=p, eta=1, epochs=500, stoc=True, algo=mouli, early_stopping=50)\n",
        "    \n",
        "    #sdr_model = SDR(n=B, n_lb=B, p=p, eta=.01, epochs=10000, stoc=True, algo=\"cayley\", early_stopping=50)\n",
        "    sir = SlicedInverseRegression(n_directions=p)\n",
        "    sir.fit(X_train, y_train)\n",
        "    A=sir.directions_\n",
        "    sdr_model.fit(gmm_fit.fitted_gmm)\n",
        "    A=sdr_model.A.detach().numpy()\n",
        "    reg = RidgeCV().fit(X_train@A.T, y_train)\n",
        "    results[-1].append(np.sqrt(np.mean((reg.predict(X_test@A.T)- y_test)**2)))\n",
        "    sdr_model.plot()\n",
        "\n",
        "    ##SIR\n",
        "    sir = SlicedInverseRegression(n_directions=p)\n",
        "    sir.fit(X_train, y_train)\n",
        "    A=sir.directions_\n",
        "    reg = RidgeCV().fit(X_train@A.T, y_train)\n",
        "    results[-1].append(np.sqrt(np.mean((reg.predict(X_test@A.T)- y_test)**2)))\n",
        "\n",
        "    ##SAVE\n",
        "    save = SlicedAverageVarianceEstimation(n_directions=p)\n",
        "    save.fit(X_train, y_train)\n",
        "    A=save.directions_\n",
        "    reg = RidgeCV().fit(X_train@A.T, y_train)\n",
        "    results[-1].append(np.sqrt(np.mean((reg.predict(X_test@A.T)- y_test)**2)))\n",
        "\n",
        "    ##PCA\n",
        "    _,A=np.linalg.eigh(np.cov(X_train.T))\n",
        "    A=A[:,::-1]\n",
        "    A=A[:,:p]\n",
        "    reg = RidgeCV().fit(X_train@A, y_train)\n",
        "    results[-1].append(np.sqrt(np.mean((reg.predict(X_test@A)- y_test)**2))) #\n",
        "\n",
        "    ##RAW\n",
        "    #reg = RidgeCV().fit(X_train, y_train)\n",
        "    #results[-1].append(np.sqrt(np.mean((reg.predict(X_test)- y_test)**2)))\n",
        "    "
      ]
    },
    {
      "cell_type": "code",
      "execution_count": null,
      "id": "6002bc0f",
      "metadata": {
        "id": "6002bc0f",
        "outputId": "316fbe91-1137-4875-99dd-c0df2aeaa246"
      },
      "outputs": [
        {
          "data": {
            "text/plain": [
              "array([list([0.7156519067724412, 0.7156519063837309, 0.7506136745230301, 0.8397598546872999]),\n",
              "       list([0.6912734344171275, 0.6912734344296066, 0.701602953899479, 0.9791796204492268]),\n",
              "       list([0.5971073423947486, 0.5971073411124029, 0.6093684803575107, 0.8656121547623054]),\n",
              "       list([0.5153252726968742, 0.5153252748887415, 0.8501432604891958, 0.6060902310820008]),\n",
              "       list([0.5792423623960811, 0.5792423624567477, 0.5775030720352574, 0.7009261901368709]),\n",
              "       list([])], dtype=object)"
            ]
          },
          "execution_count": 89,
          "metadata": {},
          "output_type": "execute_result"
        }
      ],
      "source": [
        "results=np.array(results)\n",
        "results"
      ]
    },
    {
      "cell_type": "code",
      "execution_count": null,
      "id": "3081c2f0",
      "metadata": {
        "id": "3081c2f0",
        "outputId": "f9cd9c45-d877-45b7-cedd-31ce7192226e"
      },
      "outputs": [
        {
          "name": "stdout",
          "output_type": "stream",
          "text": [
            "\\begin{table}[h] \n",
            " \\centering \n",
            " \\caption{text} \n",
            " \\label{tab:result}% \n",
            " \\resizebox{\\columnwidth}{!}{% \n",
            " \\begin{tabular}{ccccc} \n",
            " \\hline \n",
            "  Dataset & GMM & SAVE & SIR & PCA \\\\ \n",
            " \\hline \n",
            "\n",
            "abalone & $ 0.82 $ & $ 0.72 $ & $ 0.75 $ & $ 0.85 $  \\\\ \n",
            "bank32nh & $ 0.97 $ & $ 0.68 $ & $ 0.69 $ & $ 0.97 $  \\\\ \n",
            "cal housing & $ 0.94 $ & $ 0.60 $ & $ 0.64 $ & $ 0.83 $  \\\\ \n",
            "cpu act & $ 0.64 $ & $ 0.60 $ & $ 0.89 $ & $ 0.78 $  \\\\ \n",
            "delta ailerons & $ 0.59 $ & $ 0.58 $ & $ 0.58 $ & $ 0.64 $  \\\\ \n",
            "elevators & $ 0.76 $ & $ 0.96 $ & $ 0.96 $ & $ 0.81 $  \\\\ \n",
            "fried delve & $ 0.83 $ & $ 0.51 $ & $ 0.51 $ & $ 0.89 $  \\\\ \n",
            "puma32H & $ 0.99 $ & $ 0.89 $ & $ 0.89 $ & $ 0.98 $  \\\\ \n",
            "\n",
            " \\hline \n",
            " \\end{tabular}% \n",
            " } \n",
            " \\end{table}% \n",
            "\n"
          ]
        }
      ],
      "source": [
        "print(\"\\\\begin{table}[h] \\n\",\n",
        "      \"\\centering \\n\",\n",
        "      '\\caption{text} \\n',\n",
        "      '\\label{tab:result}% \\n',\n",
        "      \"\\\\resizebox{\\columnwidth}{!}{% \\n\",\n",
        "      '\\\\begin{tabular}{ccccc} \\n',\n",
        "      '\\\\hline \\n',\n",
        "      ' Dataset & GMM & SAVE & SIR & PCA \\\\\\ \\n',\n",
        "      '\\\\hline \\n')\n",
        "\n",
        "i=0\n",
        "for name in dataset_names:  \n",
        "\n",
        "    print(name.replace(\"_\", \" \") + ' & $ {:.02f} $ & $ {:.02f} $ & $ {:.02f} $ & $ {:.02f} $  \\\\\\ '.format(results[i,0],results[i,1],results[i,2],results[i,3]))\n",
        "    i+=1\n",
        "    \n",
        "print('\\n \\\\hline \\n',\n",
        "      '\\end{tabular}% \\n',\n",
        "      '} \\n',\n",
        "      '\\end{table}% \\n')"
      ]
    }
  ],
  "metadata": {
    "kernelspec": {
      "display_name": "Python 3 (ipykernel)",
      "language": "python",
      "name": "python3"
    },
    "language_info": {
      "codemirror_mode": {
        "name": "ipython",
        "version": 3
      },
      "file_extension": ".py",
      "mimetype": "text/x-python",
      "name": "python",
      "nbconvert_exporter": "python",
      "pygments_lexer": "ipython3",
      "version": "3.7.7"
    },
    "colab": {
      "name": "Experiments.ipynb",
      "provenance": []
    }
  },
  "nbformat": 4,
  "nbformat_minor": 5
}
