{
  "cells": [
    {
      "cell_type": "code",
      "source": [
        "!pip install -U git+https://github.com/k-wib/sdr.git\n",
        "!pip install -U sliced"
      ],
      "metadata": {
        "colab": {
          "base_uri": "https://localhost:8080/"
        },
        "id": "tq9GHd9ZQ8EJ",
        "outputId": "cc355daa-bdeb-45cf-f67c-41559b48e459"
      },
      "id": "tq9GHd9ZQ8EJ",
      "execution_count": 1,
      "outputs": [
        {
          "output_type": "stream",
          "name": "stdout",
          "text": [
            "Collecting git+https://github.com/k-wib/sdr.git\n",
            "  Cloning https://github.com/k-wib/sdr.git to /tmp/pip-req-build-zve7f61l\n",
            "  Running command git clone -q https://github.com/k-wib/sdr.git /tmp/pip-req-build-zve7f61l\n",
            "Requirement already satisfied: numpy in /usr/local/lib/python3.7/dist-packages (from sdr==1.0.0) (1.21.6)\n",
            "Requirement already satisfied: sklearn in /usr/local/lib/python3.7/dist-packages (from sdr==1.0.0) (0.0)\n",
            "Requirement already satisfied: matplotlib in /usr/local/lib/python3.7/dist-packages (from sdr==1.0.0) (3.2.2)\n",
            "Collecting torch==1.7.1\n",
            "  Downloading torch-1.7.1-cp37-cp37m-manylinux1_x86_64.whl (776.8 MB)\n",
            "\u001b[K     |████████████████████████████████| 776.8 MB 19 kB/s \n",
            "\u001b[?25hRequirement already satisfied: typing-extensions in /usr/local/lib/python3.7/dist-packages (from torch==1.7.1->sdr==1.0.0) (4.1.1)\n",
            "Requirement already satisfied: python-dateutil>=2.1 in /usr/local/lib/python3.7/dist-packages (from matplotlib->sdr==1.0.0) (2.8.2)\n",
            "Requirement already satisfied: cycler>=0.10 in /usr/local/lib/python3.7/dist-packages (from matplotlib->sdr==1.0.0) (0.11.0)\n",
            "Requirement already satisfied: kiwisolver>=1.0.1 in /usr/local/lib/python3.7/dist-packages (from matplotlib->sdr==1.0.0) (1.4.2)\n",
            "Requirement already satisfied: pyparsing!=2.0.4,!=2.1.2,!=2.1.6,>=2.0.1 in /usr/local/lib/python3.7/dist-packages (from matplotlib->sdr==1.0.0) (3.0.8)\n",
            "Requirement already satisfied: six>=1.5 in /usr/local/lib/python3.7/dist-packages (from python-dateutil>=2.1->matplotlib->sdr==1.0.0) (1.15.0)\n",
            "Requirement already satisfied: scikit-learn in /usr/local/lib/python3.7/dist-packages (from sklearn->sdr==1.0.0) (1.0.2)\n",
            "Requirement already satisfied: scipy>=1.1.0 in /usr/local/lib/python3.7/dist-packages (from scikit-learn->sklearn->sdr==1.0.0) (1.4.1)\n",
            "Requirement already satisfied: threadpoolctl>=2.0.0 in /usr/local/lib/python3.7/dist-packages (from scikit-learn->sklearn->sdr==1.0.0) (3.1.0)\n",
            "Requirement already satisfied: joblib>=0.11 in /usr/local/lib/python3.7/dist-packages (from scikit-learn->sklearn->sdr==1.0.0) (1.1.0)\n",
            "Building wheels for collected packages: sdr\n",
            "  Building wheel for sdr (setup.py) ... \u001b[?25l\u001b[?25hdone\n",
            "  Created wheel for sdr: filename=sdr-1.0.0-py3-none-any.whl size=4058 sha256=ad59f834a70b3b59b23d7be6a1d67ba55ce70cab8e28ec6b63c4868766be5e73\n",
            "  Stored in directory: /tmp/pip-ephem-wheel-cache-on_qjmh3/wheels/09/cf/31/a8da759b8a42b1bfac87e3d84dd4d487720b5e502e38775713\n",
            "Successfully built sdr\n",
            "Installing collected packages: torch, sdr\n",
            "  Attempting uninstall: torch\n",
            "    Found existing installation: torch 1.10.0+cu111\n",
            "    Uninstalling torch-1.10.0+cu111:\n",
            "      Successfully uninstalled torch-1.10.0+cu111\n",
            "\u001b[31mERROR: pip's dependency resolver does not currently take into account all the packages that are installed. This behaviour is the source of the following dependency conflicts.\n",
            "torchvision 0.11.1+cu111 requires torch==1.10.0, but you have torch 1.7.1 which is incompatible.\n",
            "torchtext 0.11.0 requires torch==1.10.0, but you have torch 1.7.1 which is incompatible.\n",
            "torchaudio 0.10.0+cu111 requires torch==1.10.0, but you have torch 1.7.1 which is incompatible.\u001b[0m\n",
            "Successfully installed sdr-1.0.0 torch-1.7.1\n",
            "Collecting sliced\n",
            "  Downloading sliced-0.7.0-py2.py3-none-any.whl (43 kB)\n",
            "\u001b[K     |████████████████████████████████| 43 kB 1.7 MB/s \n",
            "\u001b[?25hRequirement already satisfied: scikit-learn>=0.17 in /usr/local/lib/python3.7/dist-packages (from sliced) (1.0.2)\n",
            "Requirement already satisfied: scipy>=0.13.3 in /usr/local/lib/python3.7/dist-packages (from sliced) (1.4.1)\n",
            "Requirement already satisfied: numpy>=1.8.2 in /usr/local/lib/python3.7/dist-packages (from sliced) (1.21.6)\n",
            "Requirement already satisfied: threadpoolctl>=2.0.0 in /usr/local/lib/python3.7/dist-packages (from scikit-learn>=0.17->sliced) (3.1.0)\n",
            "Requirement already satisfied: joblib>=0.11 in /usr/local/lib/python3.7/dist-packages (from scikit-learn>=0.17->sliced) (1.1.0)\n",
            "Installing collected packages: sliced\n",
            "Successfully installed sliced-0.7.0\n"
          ]
        }
      ]
    },
    {
      "cell_type": "code",
      "execution_count": 3,
      "id": "344ebe54",
      "metadata": {
        "id": "344ebe54"
      },
      "outputs": [],
      "source": [
        "from sdr import *\n",
        "from sliced import SlicedInverseRegression, SlicedAverageVarianceEstimation\n",
        "from sklearn import mixture, datasets\n",
        "from sklearn.model_selection import train_test_split\n",
        "import numpy as np\n",
        "from tqdm import tqdm\n",
        "import matplotlib.pyplot as plt\n",
        "\n",
        "from sklearn.model_selection import train_test_split\n",
        "from sklearn.linear_model import RidgeCV\n",
        "\n",
        "from sklearn.feature_selection import VarianceThreshold\n",
        "\n",
        "random_seed=42\n",
        "\n",
        "%config InlineBackend.figure_format = 'retina'"
      ]
    },
    {
      "cell_type": "code",
      "execution_count": 4,
      "id": "14580f47",
      "metadata": {
        "id": "14580f47"
      },
      "outputs": [],
      "source": [
        "from numpy import eye, asarray, dot, sum, diag\n",
        "from numpy.linalg import svd\n",
        "\n",
        "def varimax(Phi, gamma = 1.0, q = 20, tol = 1e-6):\n",
        "    p,k = Phi.shape\n",
        "    R = eye(k)\n",
        "    d=0\n",
        "    for i in range(q):\n",
        "        d_old = d\n",
        "        Lambda = dot(Phi, R)\n",
        "        u,s,vh = svd(dot(Phi.T,asarray(Lambda)**3 - (gamma/p) * dot(Lambda, diag(diag(dot(Lambda.T,Lambda))))))\n",
        "        R = dot(u,vh)\n",
        "        d = sum(s)\n",
        "        if d_old!=0 and d/d_old < 1 + tol: break\n",
        "    return dot(Phi, R)"
      ]
    },
    {
      "cell_type": "markdown",
      "id": "774fb180",
      "metadata": {
        "id": "774fb180"
      },
      "source": [
        "# Experiment 1"
      ]
    },
    {
      "cell_type": "code",
      "execution_count": 5,
      "id": "fcebf316",
      "metadata": {
        "colab": {
          "base_uri": "https://localhost:8080/"
        },
        "id": "fcebf316",
        "outputId": "47b782e7-1a63-4a41-d4a3-af9e783b6c10"
      },
      "outputs": [
        {
          "output_type": "execute_result",
          "data": {
            "text/plain": [
              "((5000, 15), (5000,))"
            ]
          },
          "metadata": {},
          "execution_count": 5
        }
      ],
      "source": [
        "X,y=datasets.make_friedman1(n_samples=5000, n_features=15, noise=0)\n",
        "X=X-np.mean(X,axis=0)\n",
        "Z=np.hstack((X,y.reshape(-1,1)))\n",
        "\n",
        "X.shape, y.shape"
      ]
    },
    {
      "cell_type": "markdown",
      "id": "a09a4c06",
      "metadata": {
        "id": "a09a4c06"
      },
      "source": [
        "## SDR"
      ]
    },
    {
      "cell_type": "code",
      "execution_count": 6,
      "id": "a9493a99",
      "metadata": {
        "colab": {
          "base_uri": "https://localhost:8080/"
        },
        "id": "a9493a99",
        "outputId": "c02e2655-5cf3-4305-c6b6-db5a4dc7d7ae"
      },
      "outputs": [
        {
          "output_type": "execute_result",
          "data": {
            "text/plain": [
              "GaussianMixture(n_components=10, random_state=42)"
            ]
          },
          "metadata": {},
          "execution_count": 6
        }
      ],
      "source": [
        "gmm_fit = NormalMixFit(num_comps=[2,5,10,15], covariance_type='full', criterion='aic', random_state=random_seed)\n",
        "gmm_fit.get_gmm(X, y)\n",
        "\n",
        "gmm_fit.fitted_gmm"
      ]
    },
    {
      "cell_type": "code",
      "execution_count": 10,
      "id": "27638704",
      "metadata": {
        "colab": {
          "base_uri": "https://localhost:8080/"
        },
        "id": "27638704",
        "outputId": "81f02d98-40f8-44ce-bc8a-b9c9c35b7409"
      },
      "outputs": [
        {
          "output_type": "stream",
          "name": "stderr",
          "text": [
            " 53%|█████▎    | 265/500 [03:00<02:40,  1.47it/s]\n"
          ]
        }
      ],
      "source": [
        "B=2*10**5\n",
        "p=5\n",
        "\n",
        "sdr_model = SDR(n=B, n_lb=B, p=p, eta=10, epochs=500, stoc=True, algo=\"cayley\", early_stopping=50)\n",
        "sdr_model.fit(gmm_fit.fitted_gmm)"
      ]
    },
    {
      "cell_type": "code",
      "execution_count": 11,
      "id": "a9b1cb28",
      "metadata": {
        "colab": {
          "base_uri": "https://localhost:8080/",
          "height": 265
        },
        "id": "a9b1cb28",
        "outputId": "6d2abbbe-88b1-4e63-fa1d-4ae9c72b88b7"
      },
      "outputs": [
        {
          "output_type": "display_data",
          "data": {
            "text/plain": [
              "<Figure size 432x288 with 1 Axes>"
            ],
            "image/png": "[encoded data removed]"
          },
          "metadata": {
            "image/png": {
              "width": 399,
              "height": 248
            },
            "needs_background": "light"
          }
        }
      ],
      "source": [
        "sdr_model.plot()"
      ]
    },
    {
      "cell_type": "markdown",
      "id": "a2465573",
      "metadata": {
        "id": "a2465573"
      },
      "source": [
        "## SIR"
      ]
    },
    {
      "cell_type": "code",
      "execution_count": 12,
      "id": "2e056c4d",
      "metadata": {
        "id": "2e056c4d"
      },
      "outputs": [],
      "source": [
        "sir = SlicedInverseRegression(n_directions=p)\n",
        "sir.fit(X, y)\n",
        "A2=sir.directions_"
      ]
    },
    {
      "cell_type": "markdown",
      "id": "11b9c8fc",
      "metadata": {
        "id": "11b9c8fc"
      },
      "source": [
        "## SAVE"
      ]
    },
    {
      "cell_type": "code",
      "execution_count": 13,
      "id": "2f553332",
      "metadata": {
        "id": "2f553332"
      },
      "outputs": [],
      "source": [
        "save = SlicedAverageVarianceEstimation(n_directions=p)\n",
        "save.fit(X, y)\n",
        "A3=save.directions_"
      ]
    },
    {
      "cell_type": "markdown",
      "id": "ddf33b72",
      "metadata": {
        "id": "ddf33b72"
      },
      "source": [
        "## PCA"
      ]
    },
    {
      "cell_type": "code",
      "execution_count": 14,
      "id": "441df265",
      "metadata": {
        "id": "441df265"
      },
      "outputs": [],
      "source": [
        "V,U=np.linalg.eigh(np.cov(X.T))\n",
        "U=U[:,::-1]\n",
        "U=U[:,:p]"
      ]
    },
    {
      "cell_type": "markdown",
      "id": "1d21c29e",
      "metadata": {
        "id": "1d21c29e"
      },
      "source": [
        "## Plots"
      ]
    },
    {
      "cell_type": "code",
      "execution_count": 15,
      "id": "29a48f5e",
      "metadata": {
        "colab": {
          "base_uri": "https://localhost:8080/"
        },
        "id": "29a48f5e",
        "outputId": "9335d4ec-16c3-45e3-b605-919f46b4f9e9"
      },
      "outputs": [
        {
          "output_type": "execute_result",
          "data": {
            "text/plain": [
              "(4, 5, 15)"
            ]
          },
          "metadata": {},
          "execution_count": 15
        }
      ],
      "source": [
        "O=np.array([#np.abs(sdr_model.A.detach().numpy()).tolist(),\n",
        "            np.abs(varimax(sdr_model.A.detach().numpy().T)).T.tolist(),\n",
        "            #np.abs(A2).tolist(),\n",
        "            np.abs(varimax(A2.T).T).tolist(),\n",
        "            #np.abs(A3).tolist(),\n",
        "            np.abs(varimax(A3.T).T).tolist(),\n",
        "            #np.abs(U.T).tolist(),\n",
        "            np.abs(varimax(U).T).tolist()])\n",
        "O.shape"
      ]
    },
    {
      "cell_type": "code",
      "execution_count": 16,
      "id": "b831bf15",
      "metadata": {
        "id": "b831bf15"
      },
      "outputs": [],
      "source": [
        "titles=[['GMM SDR','\\nSIR'],['SAVE','\\nPCA']]"
      ]
    },
    {
      "cell_type": "code",
      "execution_count": 18,
      "id": "e4371419",
      "metadata": {
        "colab": {
          "base_uri": "https://localhost:8080/",
          "height": 340
        },
        "id": "e4371419",
        "outputId": "6adbc85f-d3ca-446f-b8a3-9980fa338bce"
      },
      "outputs": [
        {
          "output_type": "display_data",
          "data": {
            "text/plain": [
              "<Figure size 576x324 with 4 Axes>"
            ],
            "image/png": "[encoded data removed]"
          },
          "metadata": {
            "image/png": {
              "width": 525,
              "height": 323
            },
            "needs_background": "light"
          }
        }
      ],
      "source": [
        "fig, axs = plt.subplots(2,2)\n",
        "fig.tight_layout()\n",
        "\n",
        "cont=0\n",
        "\n",
        "for j in range(2):\n",
        "    for i in range(2):\n",
        "        \n",
        "        im=axs[i,j].imshow(O[cont], cmap='viridis', vmin=0, vmax=1, aspect='auto')\n",
        "        axs[i,j].set_title(titles[j][i], size=14)\n",
        "        #axs[i,j].set_xlabel('Input', size=12)\n",
        "        #axs[i,j].set_ylabel('Output', size=12)\n",
        "\n",
        "        ticks=[0,4,9,14]\n",
        "        #labels=np.round(np.array(values[j]), 3)[ticks]\n",
        "        axs[i,j].set_xticks(ticks)\n",
        "        #axs[i,j].set_xticklabels('Input dimensions', size=14)\n",
        "        #axs[i,j].set_yticks(ticks)\n",
        "        #axs[i,j].set_yticklabels('Output dimensions', size=14)\n",
        "        \n",
        "        cont+=1\n",
        " \n",
        "#cbar = fig.colorbar(im, ax=axs.ravel().tolist(),aspect=30,fraction=0.02, pad=0.04)\n",
        "#cbar.ax.tick_params(labelsize=12)\n",
        "#cbar.ax.set_title('',size=12)\n",
        "\n",
        "fig.set_figheight(4.5)\n",
        "fig.set_figwidth(8)\n",
        "#plt.savefig('plots/sdr_pca.png', bbox_inches='tight', dpi=500, transparent=True)\n",
        "plt.show()"
      ]
    },
    {
      "cell_type": "markdown",
      "id": "fb60bdfd",
      "metadata": {
        "id": "fb60bdfd"
      },
      "source": [
        "# Experiment 2"
      ]
    },
    {
      "cell_type": "code",
      "source": [
        "from google.colab import drive\n",
        "drive.mount('/content/drive')"
      ],
      "metadata": {
        "colab": {
          "base_uri": "https://localhost:8080/"
        },
        "id": "6vrOwFpTT71_",
        "outputId": "04dc98c0-f5a6-4c7e-e081-b181ad62c82e"
      },
      "id": "6vrOwFpTT71_",
      "execution_count": 31,
      "outputs": [
        {
          "output_type": "stream",
          "name": "stdout",
          "text": [
            "Mounted at /content/drive\n"
          ]
        }
      ]
    },
    {
      "cell_type": "code",
      "source": [
        "%cd /content/drive/My Drive/"
      ],
      "metadata": {
        "colab": {
          "base_uri": "https://localhost:8080/"
        },
        "id": "CaXLwGUTU4-X",
        "outputId": "19ba40dc-e846-469a-9fd4-c5773f8e6321"
      },
      "id": "CaXLwGUTU4-X",
      "execution_count": 37,
      "outputs": [
        {
          "output_type": "stream",
          "name": "stdout",
          "text": [
            "/content/drive/My Drive\n"
          ]
        }
      ]
    },
    {
      "cell_type": "code",
      "execution_count": 50,
      "id": "b28220aa",
      "metadata": {
        "id": "b28220aa"
      },
      "outputs": [],
      "source": [
        "from sklearn.preprocessing import StandardScaler\n",
        "\n",
        "def load_dataset(name):\n",
        "    #Separator#\n",
        "    if name in ['bank32nh', 'bank8FM','puma8NH','fried_delve', 'delta_ailerons']: sep=\" \"\n",
        "    elif name in ['winequality']: sep=\";\"\n",
        "    else: sep=\",\"\n",
        "    ###########\n",
        "    \n",
        "    #.data\n",
        "    #url=\"https://raw.githubusercontent.com/felipemaiapolo/master_thesis/master/open_datasets/\"+name+\".data\"\n",
        "    #s=requests.get(url).content\n",
        "    d1=pd.read_csv(\"data/\"+name+\".data\", header=None, sep=sep)\n",
        "    #.test\n",
        "    #url=\"https://raw.githubusercontent.com/felipemaiapolo/master_thesis/master/open_datasets/\"+name+\".test\"\n",
        "    #s=requests.get(url).content\n",
        "    try:\n",
        "        d2=pd.read_csv(\"data/\"+name+\".test\", header=None, sep=sep)\n",
        "        d1=d1.append(d2)\n",
        "        print(\"- ***\",name,\"*** dataset shape=\",np.shape(d1)) #Printing shape of dataset\n",
        "        \n",
        "        #### exception\n",
        "        if name in ['bank32nh','bank8FM','puma8NH']:d1=d1.iloc[:,:-1]\n",
        "        else: pass\n",
        "        ####\n",
        "        \n",
        "        return d1.dropna()\n",
        "    except:\n",
        "        print(\"- ***\",name,\"*** dataset shape=\",np.shape(d1)) #Printing shape of dataset\n",
        "        \n",
        "        #### exception\n",
        "        if name in ['bank32nh','bank8FM','puma8NH']:d1=d1.iloc[:,:-1]\n",
        "        else: pass\n",
        "        return d1.dropna()\n",
        "    \n",
        "    \n",
        "def get_X_y(pd_df,scale=True):\n",
        "    if scale: \n",
        "        scaler=StandardScaler()\n",
        "        scaled=scaler.fit_transform(np.array(pd_df))\n",
        "        X=scaled[:,:-1]\n",
        "        y=scaled[:,-1]\n",
        "    else:\n",
        "        X=np.array(pd_df)[:,:-1]\n",
        "        y=np.array(pd_df)[:,-1]\n",
        "    return [X,y]\n"
      ]
    },
    {
      "cell_type": "code",
      "execution_count": 51,
      "id": "7aca53ea",
      "metadata": {
        "id": "7aca53ea"
      },
      "outputs": [],
      "source": [
        "dataset_names=['abalone','bank32nh','cal_housing','cpu_act','delta_ailerons',\n",
        "               'elevators', 'fried_delve','puma32H'] "
      ]
    },
    {
      "cell_type": "code",
      "execution_count": 66,
      "id": "ee31f10e",
      "metadata": {
        "id": "ee31f10e"
      },
      "outputs": [],
      "source": [
        "import pandas as pd"
      ]
    },
    {
      "cell_type": "code",
      "execution_count": 67,
      "id": "b403bcc4",
      "metadata": {
        "colab": {
          "base_uri": "https://localhost:8080/"
        },
        "id": "b403bcc4",
        "outputId": "8a82dd45-ad4d-44dc-ca79-68f6259863e5"
      },
      "outputs": [
        {
          "output_type": "stream",
          "name": "stdout",
          "text": [
            "- *** abalone *** dataset shape= (4177, 9)\n",
            "- *** bank32nh *** dataset shape= (8192, 34)\n",
            "- *** cal_housing *** dataset shape= (20640, 9)\n",
            "- *** cpu_act *** dataset shape= (8192, 22)\n",
            "- *** delta_ailerons *** dataset shape= (7129, 6)\n",
            "- *** elevators *** dataset shape= (16599, 19)\n",
            "- *** fried_delve *** dataset shape= (40768, 11)\n",
            "- *** puma32H *** dataset shape= (8192, 33)\n"
          ]
        }
      ],
      "source": [
        "data={}\n",
        "for name in dataset_names: data[name]=load_dataset(name) "
      ]
    },
    {
      "cell_type": "code",
      "execution_count": 68,
      "id": "d1d0a49b",
      "metadata": {
        "id": "d1d0a49b"
      },
      "outputs": [],
      "source": [
        "for name in dataset_names: \n",
        "    n = data[name].shape[0]\n",
        "    index = np.random.choice(n, min(10000,n), replace=False)\n",
        "    data[name]=data[name].iloc[index,:]"
      ]
    },
    {
      "cell_type": "code",
      "execution_count": 69,
      "id": "bb49b15d",
      "metadata": {
        "id": "bb49b15d"
      },
      "outputs": [],
      "source": [
        "#Exclude categorical variable\n",
        "data['abalone']=data['abalone'].iloc[:,1:]"
      ]
    },
    {
      "cell_type": "code",
      "execution_count": 70,
      "id": "ddaa8990",
      "metadata": {
        "id": "ddaa8990"
      },
      "outputs": [],
      "source": [
        "for name in dataset_names: data[name]=get_X_y(data[name], scale=False)"
      ]
    },
    {
      "cell_type": "code",
      "source": [
        "# for name in dataset_names:\n",
        "#     data[name][0]=VarianceThreshold(threshold=0.).fit_transform(data[name][0])\n",
        "    \n",
        "#     n,d=data[name][0].shape\n",
        "    \n",
        "#     if d<15:\n",
        "#         data[name][0]=np.hstack((data[name][0], np.random.normal(0,1,n*(15-d)).reshape((n,-1))))"
      ],
      "metadata": {
        "id": "n9FeDGq3VVGa"
      },
      "id": "n9FeDGq3VVGa",
      "execution_count": 71,
      "outputs": []
    },
    {
      "cell_type": "code",
      "execution_count": 72,
      "id": "e5089f45",
      "metadata": {
        "colab": {
          "base_uri": "https://localhost:8080/"
        },
        "id": "e5089f45",
        "outputId": "eb368220-61f0-4d31-8d31-f5abfbf3309c"
      },
      "outputs": [
        {
          "output_type": "stream",
          "name": "stdout",
          "text": [
            "abalone (4177, 7)\n",
            "bank32nh (8192, 32)\n",
            "cal_housing (10000, 8)\n",
            "cpu_act (8192, 21)\n",
            "delta_ailerons (7129, 5)\n",
            "elevators (10000, 18)\n",
            "fried_delve (10000, 10)\n",
            "puma32H (8192, 32)\n"
          ]
        }
      ],
      "source": [
        "for name in dataset_names: \n",
        "    scaler=StandardScaler()\n",
        "    data[name][0]=scaler.fit_transform(data[name][0])\n",
        "    \n",
        "    scaler=StandardScaler()\n",
        "    data[name][1]=scaler.fit_transform(data[name][1].reshape((-1,1))).squeeze()\n",
        "    print(name,data[name][0].shape)"
      ]
    },
    {
      "cell_type": "code",
      "execution_count": 73,
      "id": "2ad456d5",
      "metadata": {
        "id": "2ad456d5"
      },
      "outputs": [],
      "source": [
        "p=1\n",
        "B=10**5"
      ]
    },
    {
      "cell_type": "code",
      "execution_count": 74,
      "id": "e787acd1",
      "metadata": {
        "id": "e787acd1"
      },
      "outputs": [],
      "source": [
        "from sklearn.feature_selection import mutual_info_regression"
      ]
    },
    {
      "cell_type": "code",
      "execution_count": 75,
      "id": "126f1489",
      "metadata": {
        "id": "126f1489"
      },
      "outputs": [],
      "source": [
        "from scipy import stats\n"
      ]
    },
    {
      "cell_type": "code",
      "execution_count": 77,
      "id": "abbe2ccd",
      "metadata": {
        "colab": {
          "base_uri": "https://localhost:8080/",
          "height": 551
        },
        "id": "abbe2ccd",
        "outputId": "c4ffe24e-8ade-49ff-8ba3-256e0993cea7"
      },
      "outputs": [
        {
          "output_type": "stream",
          "name": "stdout",
          "text": [
            "abalone\n"
          ]
        },
        {
          "output_type": "stream",
          "name": "stderr",
          "text": [
            "  8%|▊         | 775/10000 [03:16<38:53,  3.95it/s]\n"
          ]
        },
        {
          "output_type": "stream",
          "name": "stdout",
          "text": [
            "bank32nh\n"
          ]
        },
        {
          "output_type": "stream",
          "name": "stderr",
          "text": [
            "  9%|▉         | 911/10000 [03:25<34:13,  4.43it/s]\n"
          ]
        },
        {
          "output_type": "stream",
          "name": "stdout",
          "text": [
            "cal_housing\n"
          ]
        },
        {
          "output_type": "stream",
          "name": "stderr",
          "text": [
            " 13%|█▎        | 1288/10000 [05:03<34:12,  4.24it/s]\n"
          ]
        },
        {
          "output_type": "stream",
          "name": "stdout",
          "text": [
            "cpu_act\n"
          ]
        },
        {
          "output_type": "stream",
          "name": "stderr",
          "text": [
            "  9%|▉         | 931/10000 [04:18<42:00,  3.60it/s]\n"
          ]
        },
        {
          "output_type": "stream",
          "name": "stdout",
          "text": [
            "delta_ailerons\n"
          ]
        },
        {
          "output_type": "stream",
          "name": "stderr",
          "text": [
            "  5%|▌         | 507/10000 [01:23<26:08,  6.05it/s]\n"
          ]
        },
        {
          "output_type": "stream",
          "name": "stdout",
          "text": [
            "elevators\n"
          ]
        },
        {
          "output_type": "stream",
          "name": "stderr",
          "text": [
            "  1%|          | 123/10000 [00:24<32:43,  5.03it/s]\n"
          ]
        },
        {
          "output_type": "stream",
          "name": "stdout",
          "text": [
            "fried_delve\n"
          ]
        },
        {
          "output_type": "stream",
          "name": "stderr",
          "text": [
            "  1%|          | 64/10000 [00:15<39:43,  4.17it/s]\n"
          ]
        },
        {
          "output_type": "stream",
          "name": "stdout",
          "text": [
            "puma32H\n"
          ]
        },
        {
          "output_type": "stream",
          "name": "stderr",
          "text": [
            "  1%|▏         | 142/10000 [00:20<23:23,  7.03it/s]\n"
          ]
        },
        {
          "output_type": "display_data",
          "data": {
            "text/plain": [
              "<Figure size 432x288 with 1 Axes>"
            ],
            "image/png": "[encoded data removed]"
          },
          "metadata": {
            "image/png": {
              "width": 370,
              "height": 248
            },
            "needs_background": "light"
          }
        }
      ],
      "source": [
        "results=[]\n",
        "\n",
        "for name in dataset_names: \n",
        "    \n",
        "    print(name)\n",
        "    \n",
        "    X,y=data[name]\n",
        "    X_train, X_test, y_train, y_test = train_test_split(X, y, test_size=0.2, random_state=random_seed)\n",
        "\n",
        "    results.append([])\n",
        "    \n",
        "    ##GMM SDR\n",
        "    gmm_fit = NormalMixFit(num_comps=[3,5,7,10,15], covariance_type='full', criterion='aic', reg_covar=1e-05, random_state=random_seed)\n",
        "    gmm_fit.get_gmm(X_train, y_train)\n",
        "    #mouli = CayleyArmijo(rho_1 = 0.1, rho_2 = 0.9, max_iter = 10)\n",
        "    #sdr_model = SDR(n=B, n_lb=B, p=p, eta=1, epochs=500, stoc=True, algo=mouli, early_stopping=50)\n",
        "    \n",
        "    gmm_fit = NormalMixFit(num_comps=[3,5,7,10,15], covariance_type='full', criterion='aic', reg_covar=1e-05, random_state=random_seed)\n",
        "    gmm_fit.get_gmm(X_train, y_train)\n",
        "    sdr_model = SDR(n=B, n_lb=B, p=p, eta=.01, epochs=10000, stoc=True, algo=\"cayley\", early_stopping=50)\n",
        "    save = SlicedAverageVarianceEstimation(n_directions=p)\n",
        "    save.fit(X_train, y_train)\n",
        "    A=save.directions_\n",
        "    sdr_model.fit(gmm_fit.fitted_gmm)\n",
        "    A=sdr_model.A.detach().numpy()\n",
        "    results[-1].append(abs(list(stats.spearmanr((X_test@A.T).squeeze(), y_test))[0]))\n",
        "    sdr_model.plot()\n",
        "\n",
        "    ##SIR\n",
        "    sir = SlicedInverseRegression(n_directions=p)\n",
        "    sir.fit(X_train, y_train)\n",
        "    A=sir.directions_\n",
        "    results[-1].append(abs(list(stats.spearmanr((X_test@A.T).squeeze(), y_test))[0]))\n",
        "\n",
        "    ##SAVE\n",
        "    save = SlicedAverageVarianceEstimation(n_directions=p)\n",
        "    save.fit(X_train, y_train)\n",
        "    A=save.directions_\n",
        "    results[-1].append(abs(list(stats.spearmanr((X_test@A.T).squeeze(), y_test))[0]))\n",
        "\n",
        "    ##PCA\n",
        "    _,A=np.linalg.eigh(np.cov(X_train.T))\n",
        "    A=A[:,::-1]\n",
        "    A=A[:,:p].T\n",
        "    results[-1].append(abs(list(stats.spearmanr((X_test@A.T).squeeze(), y_test))[0]))\n",
        "\n",
        "    ##RAW\n",
        "    #reg = RidgeCV().fit(X_train, y_train)\n",
        "    #results[-1].append(np.sqrt(np.mean((reg.predict(X_test)- y_test)**2)))\n",
        "    "
      ]
    },
    {
      "cell_type": "code",
      "execution_count": 78,
      "id": "6002bc0f",
      "metadata": {
        "colab": {
          "base_uri": "https://localhost:8080/"
        },
        "id": "6002bc0f",
        "outputId": "f08922d2-a9c0-4e64-f9b3-dc55547c4cec"
      },
      "outputs": [
        {
          "output_type": "execute_result",
          "data": {
            "text/plain": [
              "array([[0.39828201, 0.74044798, 0.23549091, 0.64522737],\n",
              "       [0.05425748, 0.76721799, 0.21022563, 0.09624619],\n",
              "       [0.19729049, 0.82708713, 0.73204208, 0.0924815 ],\n",
              "       [0.15418104, 0.9147507 , 0.56399753, 0.87719512],\n",
              "       [0.72353785, 0.81748528, 0.8203911 , 0.54397294],\n",
              "       [0.49282871, 0.74704313, 0.74653157, 0.45711047],\n",
              "       [0.04086614, 0.83982942, 0.8382035 , 0.27164395],\n",
              "       [0.00835851, 0.39851501, 0.4044151 , 0.01775575]])"
            ]
          },
          "metadata": {},
          "execution_count": 78
        }
      ],
      "source": [
        "results=np.array(results)\n",
        "results"
      ]
    },
    {
      "cell_type": "code",
      "execution_count": 79,
      "id": "3081c2f0",
      "metadata": {
        "colab": {
          "base_uri": "https://localhost:8080/"
        },
        "id": "3081c2f0",
        "outputId": "99e29f7d-8ec9-42df-9d5b-fc376424851a"
      },
      "outputs": [
        {
          "output_type": "stream",
          "name": "stdout",
          "text": [
            "\\begin{table}[h] \n",
            " \\centering \n",
            " \\caption{text} \n",
            " \\label{tab:result}% \n",
            " \\resizebox{\\columnwidth}{!}{% \n",
            " \\begin{tabular}{ccccc} \n",
            " \\hline \n",
            "  Dataset & GMM & SAVE & SIR & PCA \\\\ \n",
            " \\hline \n",
            "\n",
            "abalone & $ 0.40 $ & $ 0.74 $ & $ 0.24 $ & $ 0.65 $  \\\\ \n",
            "bank32nh & $ 0.05 $ & $ 0.77 $ & $ 0.21 $ & $ 0.10 $  \\\\ \n",
            "cal housing & $ 0.20 $ & $ 0.83 $ & $ 0.73 $ & $ 0.09 $  \\\\ \n",
            "cpu act & $ 0.15 $ & $ 0.91 $ & $ 0.56 $ & $ 0.88 $  \\\\ \n",
            "delta ailerons & $ 0.72 $ & $ 0.82 $ & $ 0.82 $ & $ 0.54 $  \\\\ \n",
            "elevators & $ 0.49 $ & $ 0.75 $ & $ 0.75 $ & $ 0.46 $  \\\\ \n",
            "fried delve & $ 0.04 $ & $ 0.84 $ & $ 0.84 $ & $ 0.27 $  \\\\ \n",
            "puma32H & $ 0.01 $ & $ 0.40 $ & $ 0.40 $ & $ 0.02 $  \\\\ \n",
            "\n",
            " \\hline \n",
            " \\end{tabular}% \n",
            " } \n",
            " \\end{table}% \n",
            "\n"
          ]
        }
      ],
      "source": [
        "print(\"\\\\begin{table}[h] \\n\",\n",
        "      \"\\centering \\n\",\n",
        "      '\\caption{text} \\n',\n",
        "      '\\label{tab:result}% \\n',\n",
        "      \"\\\\resizebox{\\columnwidth}{!}{% \\n\",\n",
        "      '\\\\begin{tabular}{ccccc} \\n',\n",
        "      '\\\\hline \\n',\n",
        "      ' Dataset & GMM & SAVE & SIR & PCA \\\\\\ \\n',\n",
        "      '\\\\hline \\n')\n",
        "\n",
        "i=0\n",
        "for name in dataset_names:  \n",
        "\n",
        "    print(name.replace(\"_\", \" \") + ' & $ {:.02f} $ & $ {:.02f} $ & $ {:.02f} $ & $ {:.02f} $  \\\\\\ '.format(results[i,0],results[i,1],results[i,2],results[i,3]))\n",
        "    i+=1\n",
        "    \n",
        "print('\\n \\\\hline \\n',\n",
        "      '\\end{tabular}% \\n',\n",
        "      '} \\n',\n",
        "      '\\end{table}% \\n')"
      ]
    }
  ],
  "metadata": {
    "kernelspec": {
      "display_name": "Python 3 (ipykernel)",
      "language": "python",
      "name": "python3"
    },
    "language_info": {
      "codemirror_mode": {
        "name": "ipython",
        "version": 3
      },
      "file_extension": ".py",
      "mimetype": "text/x-python",
      "name": "python",
      "nbconvert_exporter": "python",
      "pygments_lexer": "ipython3",
      "version": "3.7.7"
    },
    "colab": {
      "name": "Experiments.ipynb",
      "provenance": []
    }
  },
  "nbformat": 4,
  "nbformat_minor": 5
}